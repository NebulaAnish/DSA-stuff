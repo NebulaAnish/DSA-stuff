{
  "nbformat": 4,
  "nbformat_minor": 0,
  "metadata": {
    "colab": {
      "name": "brackets balance.ipynb",
      "provenance": [],
      "authorship_tag": "ABX9TyOVCxt19xXQT9xFHxpDRhNl",
      "include_colab_link": true
    },
    "kernelspec": {
      "name": "python3",
      "display_name": "Python 3"
    },
    "language_info": {
      "name": "python"
    }
  },
  "cells": [
    {
      "cell_type": "markdown",
      "metadata": {
        "id": "view-in-github",
        "colab_type": "text"
      },
      "source": [
        "<a href=\"https://colab.research.google.com/github/NebulaAnish/DSA-stuff/blob/main/brackets_balance.ipynb\" target=\"_parent\"><img src=\"https://colab.research.google.com/assets/colab-badge.svg\" alt=\"Open In Colab\"/></a>"
      ]
    },
    {
      "cell_type": "code",
      "execution_count": 3,
      "metadata": {
        "id": "f7os4A7ASNmO"
      },
      "outputs": [],
      "source": [
        "from collections import deque\n",
        "class Stack:\n",
        
        "    def __init__(self):\n",
        "        self.container = deque()\n",
        "    \n",
        "    def push(self,val):\n",
        "        self.container.append(val)\n",
        "        \n",
        "    def pop(self):\n",
        "        return self.container.pop()\n",
        "    \n",
        "    def peek(self):\n",
        "        return  self.container[-1]\n",
        "    \n",
        "    def is_empty(self):\n",
        "        return len(self.container)==0\n",
        "    \n",
        "    def size(self):\n",
        "        return len(self.container)\n"
      ]
    },
    {
      "cell_type": "code",
      "source": [
        "\n",
        "def is_balanced(mystring):\n",
        "  mystack = Stack()\n",
        "  match = {\n",
        "      \")\":\"(\",\n",
        "      \"}\":\"{\",\n",
        "      \"]\":\"[\",\n",
        "  }\n",
        "  for _ in mystring:\n",
        "    if (_ == \"(\") or (_==\"{\") or (_==\"[\"):\n",
        "      mystack.push(_)\n",
        "    elif (_ == \")\") or (_==\"}\") or (_==\"]\"):\n",
        "      if mystack.pop() != match[_]:\n",
        "        return False\n",
        "  return True\n",
        "\n",
        "\n",
        "is_balanced(\"[{()}]\")\n",
        "\n",
        "\n"
      ],
      "metadata": {
        "id": "wbQU9c-KSpoe",
        "colab": {
          "base_uri": "https://localhost:8080/"
        },
        "outputId": "ecb5c3dd-4f39-4d35-83c5-08dcf21a11bb"
      },
      "execution_count": 14,
      "outputs": [
        {
          "output_type": "execute_result",
          "data": {
            "text/plain": [
              "True"
            ]
          },
          "metadata": {},
          "execution_count": 14
        }
      ]
    }
  ]
}
